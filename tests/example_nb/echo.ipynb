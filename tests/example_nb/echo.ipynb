{
 "cells": [
  {
   "cell_type": "code",
   "execution_count": 1,
   "metadata": {},
   "outputs": [],
   "source": [
    "from pprint import pformat"
   ]
  },
  {
   "cell_type": "code",
   "execution_count": 2,
   "metadata": {
    "tags": [
     "parameters"
    ]
   },
   "outputs": [],
   "source": [
    "poi_ra = 10. # oda:PointOfInterestRA\n",
    "poi_dec = 20. # oda:PointOfInterestDEC\n",
    "start_time = 56000. # oda:StartTime ; oda:format oda:MJD\n",
    "end_time = 56005. #oda:EndTimeMJD\n",
    "band = \"z\" # oda:PhotometricBand\n",
    "visible_band = \"v\" # oda:PhotometricBand ; oda:allowed_value \"b\", \"g\", \"r\", \"v\"\n",
    "radius = 3. # oda:Angle ; oda:unit unit:arcmin\n",
    "energy = 50. # oda:Energy_keV ; oda:lower_limit 35 ; oda:upper_limit 800\n",
    "time_instant = '2017-08-17T12:43:0.000' # oda:TimeInstantISOT\n",
    "token = \"XGDSgs2KYqHr\""
   ]
  },
  {
   "cell_type": "code",
   "execution_count": 3,
   "metadata": {},
   "outputs": [],
   "source": [
    "input_dict = dict(poi_ra=poi_ra,\n",
    "                  poi_dec=poi_dec, \n",
    "                  start_time=start_time,\n",
    "                  end_time=end_time,\n",
    "                  band=band,\n",
    "                  visible_band=visible_band,\n",
    "                  radius=radius,\n",
    "                  energy=energy,\n",
    "                  time_instant=time_instant,\n",
    "                  token=token,\n",
    "                  )"
   ]
  },
  {
   "cell_type": "code",
   "execution_count": 4,
   "metadata": {
    "tags": [
     "outputs"
    ]
   },
   "outputs": [],
   "source": [
    "output = pformat(input_dict) # oda:ODATextProduct"
   ]
  }
 ],
 "metadata": {
  "kernelspec": {
   "display_name": ".venv",
   "language": "python",
   "name": "python3"
  },
  "language_info": {
   "codemirror_mode": {
    "name": "ipython",
    "version": 3
   },
   "file_extension": ".py",
   "mimetype": "text/x-python",
   "name": "python",
   "nbconvert_exporter": "python",
   "pygments_lexer": "ipython3",
   "version": "3.8.16"
  },
  "orig_nbformat": 4,
  "vscode": {
   "interpreter": {
    "hash": "4503c487b0ef8b20a5a7f344b37b3295c09c2919002f234fc70d2f5e772ba95a"
   }
  }
 },
 "nbformat": 4,
 "nbformat_minor": 2
}
