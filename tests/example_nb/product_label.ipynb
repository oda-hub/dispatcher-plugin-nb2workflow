{
 "cells": [
  {
   "cell_type": "code",
   "execution_count": 1,
   "metadata": {},
   "outputs": [],
   "source": [
    "from oda_api.data_products import ODAAstropyTable, LightCurveDataProduct, PictureProduct\n",
    "from astropy.table import Table\n",
    "from matplotlib import pyplot as plt"
   ]
  },
  {
   "cell_type": "code",
   "execution_count": 2,
   "metadata": {
    "tags": [
     "parameters"
    ]
   },
   "outputs": [],
   "source": [
    "dummy = 'foo'\n",
    "integer = 5"
   ]
  },
  {
   "cell_type": "code",
   "execution_count": 3,
   "metadata": {},
   "outputs": [],
   "source": [
    "atable = Table({'col1': ['foo', 'bar', 'baz'], 'col2': [10, 20, 30], 'col3': [1.3, 1.4, 1.5]})\n",
    "lc = LightCurveDataProduct.from_arrays(times=[55165, 55166, 55167], \n",
    "                                       counts=[3364, 4356, 2500], \n",
    "                                       errors=[58, 66, 50], \n",
    "                                       time_format='mjd', \n",
    "                                       name='lcname')"
   ]
  },
  {
   "cell_type": "code",
   "execution_count": null,
   "metadata": {},
   "outputs": [],
   "source": [
    "plt.plot(lc.data_unit[1].data['TIME'], lc.data_unit[1].data['COUNTS'])\n",
    "plt.savefig('lc.jpg')"
   ]
  },
  {
   "cell_type": "code",
   "execution_count": 5,
   "metadata": {
    "tags": [
     "outputs"
    ]
   },
   "outputs": [],
   "source": [
    "dummy # oda:String\n",
    "dummy_ext = dummy + 'bar'# oda:ODATextProduct ; oda:label 'Dummy extended'\n",
    "other_int = integer + 5 # oda:Integer; oda:label 'integer_plus_5'\n",
    "atable = ODAAstropyTable(atable, name='myname') # oda:ODAAstropyTable; oda:label 'Astropy table'\n",
    "lcurve = lc # oda:LightCurve; oda:label 'Light curve'\n",
    "pict = PictureProduct.from_file('lc.jpg', name='lcpic') # oda:ODAPictureProduct; oda:label 'Picture'"
   ]
  }
 ],
 "metadata": {
  "kernelspec": {
   "display_name": ".venv",
   "language": "python",
   "name": "python3"
  },
  "language_info": {
   "codemirror_mode": {
    "name": "ipython",
    "version": 3
   },
   "file_extension": ".py",
   "mimetype": "text/x-python",
   "name": "python",
   "nbconvert_exporter": "python",
   "pygments_lexer": "ipython3",
   "version": "3.10.15"
  }
 },
 "nbformat": 4,
 "nbformat_minor": 2
}
